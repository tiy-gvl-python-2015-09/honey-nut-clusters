{
 "cells": [
  {
   "cell_type": "markdown",
   "metadata": {},
   "source": [
    "# Cluster cereals by nutritional values\n",
    "### Description\n",
    "Using K-means clustering (or another clustering algorithm), find clusters of cereals and explain the clusters.\n",
    "\n",
    "### Directions\n",
    "Read in the data in cereals.csv and cluster the cereals by the features you choose.\n",
    "\n",
    "Try different amounts of clusters to see what works best, starting with 3.\n",
    "\n",
    "Once you have your final clusters, analyze their contents. Give each cluster a name and a description explaining how the cereals in it are similar.\n",
    "\n",
    "Write up all your analysis, complete with any graphs that may be helpful to understand it.\n",
    "\n",
    "Note that there are a few pieces of missing data in the cereals data. You may want to fill these in using linear regression or another technique.\n",
    "\n",
    "Two other notes:\n",
    "\n",
    "This data is by serving size. You might consider changing it to be by weight or volume.\n",
    "See this answer on Stack Overflow about normalizing data and other tips. You may want to consider normalizing your data before clustering or that answer's idea about order randomization."
   ]
  },
  {
   "cell_type": "code",
   "execution_count": 61,
   "metadata": {
    "collapsed": false
   },
   "outputs": [],
   "source": [
    "import pandas as pd\n",
    "import numpy as np\n",
    "import matplotlib.pyplot as plt\n",
    "from sklearn.decomposition import PCA\n",
    "from sklearn.cluster import KMeans\n",
    "%matplotlib inline"
   ]
  },
  {
   "cell_type": "markdown",
   "metadata": {},
   "source": [
    "### Cleaning the data:"
   ]
  },
  {
   "cell_type": "code",
   "execution_count": 72,
   "metadata": {
    "collapsed": false
   },
   "outputs": [
    {
     "data": {
      "text/html": [
       "<div>\n",
       "<table border=\"1\" class=\"dataframe\">\n",
       "  <thead>\n",
       "    <tr style=\"text-align: right;\">\n",
       "      <th></th>\n",
       "      <th>name</th>\n",
       "      <th>mfr</th>\n",
       "      <th>type</th>\n",
       "      <th>calories</th>\n",
       "      <th>protein</th>\n",
       "      <th>fat</th>\n",
       "      <th>sodium</th>\n",
       "      <th>fiber</th>\n",
       "      <th>carbo</th>\n",
       "      <th>sugars</th>\n",
       "      <th>potass</th>\n",
       "      <th>vitamins</th>\n",
       "      <th>shelf</th>\n",
       "      <th>weight</th>\n",
       "      <th>cups</th>\n",
       "    </tr>\n",
       "  </thead>\n",
       "  <tbody>\n",
       "    <tr>\n",
       "      <th>0</th>\n",
       "      <td>100%_Bran</td>\n",
       "      <td>N</td>\n",
       "      <td>C</td>\n",
       "      <td>70</td>\n",
       "      <td>4</td>\n",
       "      <td>1</td>\n",
       "      <td>130</td>\n",
       "      <td>10</td>\n",
       "      <td>5</td>\n",
       "      <td>6</td>\n",
       "      <td>280</td>\n",
       "      <td>25</td>\n",
       "      <td>3</td>\n",
       "      <td>1</td>\n",
       "      <td>0.33</td>\n",
       "    </tr>\n",
       "    <tr>\n",
       "      <th>1</th>\n",
       "      <td>100%_Natural_Bran</td>\n",
       "      <td>Q</td>\n",
       "      <td>C</td>\n",
       "      <td>120</td>\n",
       "      <td>3</td>\n",
       "      <td>5</td>\n",
       "      <td>15</td>\n",
       "      <td>2</td>\n",
       "      <td>8</td>\n",
       "      <td>8</td>\n",
       "      <td>135</td>\n",
       "      <td>0</td>\n",
       "      <td>3</td>\n",
       "      <td>1</td>\n",
       "      <td>1.00</td>\n",
       "    </tr>\n",
       "    <tr>\n",
       "      <th>2</th>\n",
       "      <td>All-Bran</td>\n",
       "      <td>K</td>\n",
       "      <td>C</td>\n",
       "      <td>70</td>\n",
       "      <td>4</td>\n",
       "      <td>1</td>\n",
       "      <td>260</td>\n",
       "      <td>9</td>\n",
       "      <td>7</td>\n",
       "      <td>5</td>\n",
       "      <td>320</td>\n",
       "      <td>25</td>\n",
       "      <td>3</td>\n",
       "      <td>1</td>\n",
       "      <td>0.33</td>\n",
       "    </tr>\n",
       "    <tr>\n",
       "      <th>3</th>\n",
       "      <td>All-Bran_with_Extra_Fiber</td>\n",
       "      <td>K</td>\n",
       "      <td>C</td>\n",
       "      <td>50</td>\n",
       "      <td>4</td>\n",
       "      <td>0</td>\n",
       "      <td>140</td>\n",
       "      <td>14</td>\n",
       "      <td>8</td>\n",
       "      <td>0</td>\n",
       "      <td>330</td>\n",
       "      <td>25</td>\n",
       "      <td>3</td>\n",
       "      <td>1</td>\n",
       "      <td>0.50</td>\n",
       "    </tr>\n",
       "    <tr>\n",
       "      <th>4</th>\n",
       "      <td>Almond_Delight</td>\n",
       "      <td>R</td>\n",
       "      <td>C</td>\n",
       "      <td>110</td>\n",
       "      <td>2</td>\n",
       "      <td>2</td>\n",
       "      <td>200</td>\n",
       "      <td>1</td>\n",
       "      <td>14</td>\n",
       "      <td>8</td>\n",
       "      <td>0</td>\n",
       "      <td>25</td>\n",
       "      <td>3</td>\n",
       "      <td>1</td>\n",
       "      <td>0.75</td>\n",
       "    </tr>\n",
       "  </tbody>\n",
       "</table>\n",
       "</div>"
      ],
      "text/plain": [
       "                        name mfr type  calories  protein  fat  sodium  fiber  \\\n",
       "0                  100%_Bran   N    C        70        4    1     130     10   \n",
       "1          100%_Natural_Bran   Q    C       120        3    5      15      2   \n",
       "2                   All-Bran   K    C        70        4    1     260      9   \n",
       "3  All-Bran_with_Extra_Fiber   K    C        50        4    0     140     14   \n",
       "4             Almond_Delight   R    C       110        2    2     200      1   \n",
       "\n",
       "   carbo  sugars  potass  vitamins  shelf  weight  cups  \n",
       "0      5       6     280        25      3       1  0.33  \n",
       "1      8       8     135         0      3       1  1.00  \n",
       "2      7       5     320        25      3       1  0.33  \n",
       "3      8       0     330        25      3       1  0.50  \n",
       "4     14       8       0        25      3       1  0.75  "
      ]
     },
     "execution_count": 72,
     "metadata": {},
     "output_type": "execute_result"
    }
   ],
   "source": [
    "cereal = pd.read_csv(\"honey-nut-clusters/cereals.csv\")\n",
    "cereal = cereal.replace(-1, 0)\n",
    "scalar = (1/cereal[\"weight\"])\n",
    "cereal[\"calories\"] *= scalar\n",
    "cereal[\"protein\"] *= scalar\n",
    "cereal[\"fat\"] *= scalar\n",
    "cereal[\"sodium\"] *= scalar\n",
    "cereal[\"fiber\"] *= scalar\n",
    "cereal[\"carbo\"] *= scalar\n",
    "cereal[\"potass\"] *= scalar\n",
    "cereal[\"vitamins\"] *= scalar\n",
    "cereal[\"weight\"] *= scalar\n",
    "cereal[\"cups\"] *= scalar\n",
    "cereal.head()"
   ]
  },
  {
   "cell_type": "code",
   "execution_count": 55,
   "metadata": {
    "collapsed": false
   },
   "outputs": [
    {
     "name": "stdout",
     "output_type": "stream",
     "text": [
      "0\n",
      "1\n",
      "2\n",
      "3\n",
      "4\n",
      "5\n",
      "6\n"
     ]
    },
    {
     "data": {
      "text/html": [
       "<div>\n",
       "<table border=\"1\" class=\"dataframe\">\n",
       "  <thead>\n",
       "    <tr style=\"text-align: right;\">\n",
       "      <th></th>\n",
       "      <th>mfr</th>\n",
       "      <th>calories</th>\n",
       "      <th>protein</th>\n",
       "      <th>fat</th>\n",
       "      <th>sodium</th>\n",
       "      <th>fiber</th>\n",
       "      <th>carbo</th>\n",
       "      <th>sugars</th>\n",
       "    </tr>\n",
       "    <tr>\n",
       "      <th>name</th>\n",
       "      <th></th>\n",
       "      <th></th>\n",
       "      <th></th>\n",
       "      <th></th>\n",
       "      <th></th>\n",
       "      <th></th>\n",
       "      <th></th>\n",
       "      <th></th>\n",
       "    </tr>\n",
       "  </thead>\n",
       "  <tbody>\n",
       "    <tr>\n",
       "      <th>100%_Bran</th>\n",
       "      <td>0</td>\n",
       "      <td>70</td>\n",
       "      <td>4</td>\n",
       "      <td>1</td>\n",
       "      <td>130</td>\n",
       "      <td>10</td>\n",
       "      <td>5</td>\n",
       "      <td>6</td>\n",
       "    </tr>\n",
       "    <tr>\n",
       "      <th>100%_Natural_Bran</th>\n",
       "      <td>1</td>\n",
       "      <td>120</td>\n",
       "      <td>3</td>\n",
       "      <td>5</td>\n",
       "      <td>15</td>\n",
       "      <td>2</td>\n",
       "      <td>8</td>\n",
       "      <td>8</td>\n",
       "    </tr>\n",
       "    <tr>\n",
       "      <th>All-Bran</th>\n",
       "      <td>2</td>\n",
       "      <td>70</td>\n",
       "      <td>4</td>\n",
       "      <td>1</td>\n",
       "      <td>260</td>\n",
       "      <td>9</td>\n",
       "      <td>7</td>\n",
       "      <td>5</td>\n",
       "    </tr>\n",
       "    <tr>\n",
       "      <th>All-Bran_with_Extra_Fiber</th>\n",
       "      <td>2</td>\n",
       "      <td>50</td>\n",
       "      <td>4</td>\n",
       "      <td>0</td>\n",
       "      <td>140</td>\n",
       "      <td>14</td>\n",
       "      <td>8</td>\n",
       "      <td>0</td>\n",
       "    </tr>\n",
       "    <tr>\n",
       "      <th>Almond_Delight</th>\n",
       "      <td>3</td>\n",
       "      <td>110</td>\n",
       "      <td>2</td>\n",
       "      <td>2</td>\n",
       "      <td>200</td>\n",
       "      <td>1</td>\n",
       "      <td>14</td>\n",
       "      <td>8</td>\n",
       "    </tr>\n",
       "  </tbody>\n",
       "</table>\n",
       "</div>"
      ],
      "text/plain": [
       "                           mfr  calories  protein  fat  sodium  fiber  carbo  \\\n",
       "name                                                                           \n",
       "100%_Bran                    0        70        4    1     130     10      5   \n",
       "100%_Natural_Bran            1       120        3    5      15      2      8   \n",
       "All-Bran                     2        70        4    1     260      9      7   \n",
       "All-Bran_with_Extra_Fiber    2        50        4    0     140     14      8   \n",
       "Almond_Delight               3       110        2    2     200      1     14   \n",
       "\n",
       "                           sugars  \n",
       "name                               \n",
       "100%_Bran                       6  \n",
       "100%_Natural_Bran               8  \n",
       "All-Bran                        5  \n",
       "All-Bran_with_Extra_Fiber       0  \n",
       "Almond_Delight                  8  "
      ]
     },
     "execution_count": 55,
     "metadata": {},
     "output_type": "execute_result"
    }
   ],
   "source": [
    "companies = cereal.mfr.unique()\n",
    "for x in companies:\n",
    "    places = list(companies).index(x)\n",
    "    print(places)\n",
    "    mfr = []\n",
    "    for y in cereal.mfr:\n",
    "        mfr.append(list(companies).index(y))\n",
    "\n",
    "cereal[\"mfr\"] = mfr\n",
    "cereal.index = cereal[\"name\"]\n",
    "cereal.dropna(inplace=True)\n",
    "cereal2 = cereal[[\"mfr\", \"calories\", \"protein\", \"fat\", \"sodium\", \"fiber\", \"carbo\", \"sugars\"]]\n",
    "cereal2.head()"
   ]
  },
  {
   "cell_type": "markdown",
   "metadata": {
    "collapsed": false
   },
   "source": [
    "### Reducing data to 2 dimensions:"
   ]
  },
  {
   "cell_type": "code",
   "execution_count": 57,
   "metadata": {
    "collapsed": false,
    "scrolled": true
   },
   "outputs": [
    {
     "data": {
      "text/plain": [
       "array([[ -24.27645962,   34.52807371],\n",
       "       [-138.02221504,  -18.91581337],\n",
       "       [ 105.7138916 ,   37.47229513],\n",
       "       [ -14.71758463,   55.38082726],\n",
       "       [  46.76719406,   -5.05397126],\n",
       "       [  26.7436322 ,   -5.50480016],\n",
       "       [ -28.23549658,   -7.22091032],\n",
       "       [   4.39485559,    6.10591059],\n",
       "       [  46.3065687 ,   15.17441215],\n",
       "       [  56.28627529,   15.75733415],\n",
       "       [  66.96779663,  -14.83258934],\n",
       "       [ 136.75185407,   -2.18798451],\n",
       "       [  56.9943938 ,  -14.89489848],\n",
       "       [ -13.22440777,   -6.21263155],\n",
       "       [  26.77182918,   -6.05447841],\n",
       "       [ 126.82157161,   -3.11658971],\n",
       "       [ 136.568144  ,    7.266714  ],\n",
       "       [ -63.20315747,   -7.97092648],\n",
       "       [  26.77182918,   -6.05447841],\n",
       "       [ -13.2755612 ,   -5.82084038],\n",
       "       [ -73.37588656,    2.52543682],\n",
       "       [  66.82200912,   -4.36149103],\n",
       "       [ -13.46748088,    3.45739561],\n",
       "       [  36.58072197,    4.72041333],\n",
       "       [ -28.23713892,   -7.14878432],\n",
       "       [  46.76820287,   -5.30162019],\n",
       "       [-153.40898033,    0.46229146],\n",
       "       [ -25.57262848,    7.38154413],\n",
       "       [  26.72573909,   14.13347312],\n",
       "       [ -18.19786918,   -7.09454536],\n",
       "       [-108.41402492,    0.46028512],\n",
       "       [ 126.76352995,   -3.41911652],\n",
       "       [ -13.43251568,    3.86687874],\n",
       "       [  16.80413123,   -5.14089631],\n",
       "       [ -77.97636807,  -17.23811725],\n",
       "       [  66.9624588 ,  -14.61637813],\n",
       "       [  96.72837561,   -3.84611444],\n",
       "       [  26.79606083,   -5.93949715],\n",
       "       [  16.80092517,   -5.67649498],\n",
       "       [ -22.48459556,   -4.4916333 ],\n",
       "       [ 106.82333058,   -3.58705778],\n",
       "       [  -3.48727604,    4.10932561],\n",
       "       [  26.76842026,   -5.93392557],\n",
       "       [-153.3611865 ,    0.35441045],\n",
       "       [ -57.26986279,  -47.1917615 ],\n",
       "       [  -2.28876026,  -45.88161987],\n",
       "       [ -53.30517519,   -4.37989258],\n",
       "       [  66.54165302,    5.55914827],\n",
       "       [  37.00948839,  -15.36887204],\n",
       "       [  12.09089504,   -1.03018871],\n",
       "       [  16.33941664,   14.6686643 ],\n",
       "       [ -17.37465317,   -0.67097823],\n",
       "       [  -3.34620534,   13.33923656],\n",
       "       [ 166.54667812,    7.9466494 ],\n",
       "       [-153.28397323,    0.19232007],\n",
       "       [-153.35921054,    0.78414427],\n",
       "       [ -18.46076324,    3.67171718],\n",
       "       [-153.57566477,    1.95117552],\n",
       "       [   4.1769206 ,   13.5705304 ],\n",
       "       [ -13.4797787 ,    3.73366855],\n",
       "       [-153.62229812,   10.24151961],\n",
       "       [  86.84647339,   -4.03473268],\n",
       "       [ 136.81245092,   -2.86122624],\n",
       "       [-153.45824945,    4.55930726],\n",
       "       [-153.60972511,   10.91868167],\n",
       "       [-153.59523199,   10.75149348],\n",
       "       [ -83.23655201,   -8.556972  ],\n",
       "       [  76.75775506,   -3.77997011],\n",
       "       [-138.64415938,   10.84935399],\n",
       "       [  46.843946  ,   -5.0163032 ],\n",
       "       [ -26.95598443,    9.42649418],\n",
       "       [  46.54893335,    5.46852021],\n",
       "       [  96.82676648,   -3.82526535],\n",
       "       [ -13.20527192,   -6.95828566],\n",
       "       [  76.54350218,    6.14310473],\n",
       "       [  46.55949468,    5.41132611],\n",
       "       [  46.79423779,   -5.15142424]])"
      ]
     },
     "execution_count": 57,
     "metadata": {},
     "output_type": "execute_result"
    }
   ],
   "source": [
    "pca = PCA(n_components=2)\n",
    "pca.fit(cereal2)\n",
    "reduced_cereal = pca.transform(cereal2)\n",
    "reduced_cereal"
   ]
  },
  {
   "cell_type": "code",
   "execution_count": 60,
   "metadata": {
    "collapsed": false
   },
   "outputs": [
    {
     "data": {
      "image/png": "[encoded data removed]",
      "text/plain": [
       "<matplotlib.figure.Figure at 0x10a8110f0>"
      ]
     },
     "metadata": {},
     "output_type": "display_data"
    }
   ],
   "source": [
    "plt.scatter(reduced_cereal[:, 0], reduced_cereal[:, 1])\n",
    "plt.title(\"Cereal Plots\")\n",
    "plt.show()"
   ]
  },
  {
   "cell_type": "code",
   "execution_count": 64,
   "metadata": {
    "collapsed": false
   },
   "outputs": [
    {
     "data": {
      "image/png": "[encoded data removed]",
      "text/plain": [
       "<matplotlib.figure.Figure at 0x10e078f98>"
      ]
     },
     "metadata": {},
     "output_type": "display_data"
    }
   ],
   "source": [
    "kmeans = KMeans(3)\n",
    "y_pred = kmeans.fit_predict(reduced_cereal)\n",
    "plt.scatter(reduced_cereal[:, 0], reduced_cereal[:, 1], c=y_pred, cmap=\"hot\")\n",
    "plt.title(\"Cereal Plots - colored\")\n",
    "plt.show()"
   ]
  },
  {
   "cell_type": "code",
   "execution_count": 71,
   "metadata": {
    "collapsed": false
   },
   "outputs": [
    {
     "ename": "AttributeError",
     "evalue": "Unknown property fig_size",
     "output_type": "error",
     "traceback": [
      "\u001b[0;31m---------------------------------------------------------------------------\u001b[0m",
      "\u001b[0;31mAttributeError\u001b[0m                            Traceback (most recent call last)",
      "\u001b[0;32m<ipython-input-71-bcdcab704e1c>\u001b[0m in \u001b[0;36m<module>\u001b[0;34m()\u001b[0m\n\u001b[1;32m      1\u001b[0m \u001b[0mkmeans\u001b[0m \u001b[0;34m=\u001b[0m \u001b[0mKMeans\u001b[0m\u001b[0;34m(\u001b[0m\u001b[0;36m4\u001b[0m\u001b[0;34m)\u001b[0m\u001b[0;34m\u001b[0m\u001b[0m\n\u001b[1;32m      2\u001b[0m \u001b[0my_pred\u001b[0m \u001b[0;34m=\u001b[0m \u001b[0mkmeans\u001b[0m\u001b[0;34m.\u001b[0m\u001b[0mfit_predict\u001b[0m\u001b[0;34m(\u001b[0m\u001b[0mreduced_cereal\u001b[0m\u001b[0;34m)\u001b[0m\u001b[0;34m\u001b[0m\u001b[0m\n\u001b[0;32m----> 3\u001b[0;31m \u001b[0mplt\u001b[0m\u001b[0;34m.\u001b[0m\u001b[0mscatter\u001b[0m\u001b[0;34m(\u001b[0m\u001b[0mreduced_cereal\u001b[0m\u001b[0;34m[\u001b[0m\u001b[0;34m:\u001b[0m\u001b[0;34m,\u001b[0m \u001b[0;36m0\u001b[0m\u001b[0;34m]\u001b[0m\u001b[0;34m,\u001b[0m \u001b[0mreduced_cereal\u001b[0m\u001b[0;34m[\u001b[0m\u001b[0;34m:\u001b[0m\u001b[0;34m,\u001b[0m \u001b[0;36m1\u001b[0m\u001b[0;34m]\u001b[0m\u001b[0;34m,\u001b[0m \u001b[0mc\u001b[0m\u001b[0;34m=\u001b[0m\u001b[0my_pred\u001b[0m\u001b[0;34m,\u001b[0m \u001b[0mcmap\u001b[0m\u001b[0;34m=\u001b[0m\u001b[0;34m\"hot\"\u001b[0m\u001b[0;34m,\u001b[0m \u001b[0mfig_size\u001b[0m\u001b[0;34m=\u001b[0m\u001b[0;36m20\u001b[0m\u001b[0;34m)\u001b[0m\u001b[0;34m\u001b[0m\u001b[0m\n\u001b[0m\u001b[1;32m      4\u001b[0m \u001b[0mplt\u001b[0m\u001b[0;34m.\u001b[0m\u001b[0mtitle\u001b[0m\u001b[0;34m(\u001b[0m\u001b[0;34m\"Cereal Plots - colored\"\u001b[0m\u001b[0;34m)\u001b[0m\u001b[0;34m\u001b[0m\u001b[0m\n\u001b[1;32m      5\u001b[0m \u001b[0mplt\u001b[0m\u001b[0;34m.\u001b[0m\u001b[0mshow\u001b[0m\u001b[0;34m(\u001b[0m\u001b[0;34m)\u001b[0m\u001b[0;34m\u001b[0m\u001b[0m\n",
      "\u001b[0;32m/Users/travisknop/travis_python/.direnv/python-3.5.0/lib/python3.5/site-packages/matplotlib/pyplot.py\u001b[0m in \u001b[0;36mscatter\u001b[0;34m(x, y, s, c, marker, cmap, norm, vmin, vmax, alpha, linewidths, verts, hold, **kwargs)\u001b[0m\n\u001b[1;32m   3198\u001b[0m         ret = ax.scatter(x, y, s=s, c=c, marker=marker, cmap=cmap, norm=norm,\n\u001b[1;32m   3199\u001b[0m                          \u001b[0mvmin\u001b[0m\u001b[0;34m=\u001b[0m\u001b[0mvmin\u001b[0m\u001b[0;34m,\u001b[0m \u001b[0mvmax\u001b[0m\u001b[0;34m=\u001b[0m\u001b[0mvmax\u001b[0m\u001b[0;34m,\u001b[0m \u001b[0malpha\u001b[0m\u001b[0;34m=\u001b[0m\u001b[0malpha\u001b[0m\u001b[0;34m,\u001b[0m\u001b[0;34m\u001b[0m\u001b[0m\n\u001b[0;32m-> 3200\u001b[0;31m                          linewidths=linewidths, verts=verts, **kwargs)\n\u001b[0m\u001b[1;32m   3201\u001b[0m         \u001b[0mdraw_if_interactive\u001b[0m\u001b[0;34m(\u001b[0m\u001b[0;34m)\u001b[0m\u001b[0;34m\u001b[0m\u001b[0m\n\u001b[1;32m   3202\u001b[0m     \u001b[0;32mfinally\u001b[0m\u001b[0;34m:\u001b[0m\u001b[0;34m\u001b[0m\u001b[0m\n",
      "\u001b[0;32m/Users/travisknop/travis_python/.direnv/python-3.5.0/lib/python3.5/site-packages/matplotlib/axes/_axes.py\u001b[0m in \u001b[0;36mscatter\u001b[0;34m(self, x, y, s, c, marker, cmap, norm, vmin, vmax, alpha, linewidths, verts, **kwargs)\u001b[0m\n\u001b[1;32m   3647\u001b[0m         \u001b[0mcollection\u001b[0m\u001b[0;34m.\u001b[0m\u001b[0mset_transform\u001b[0m\u001b[0;34m(\u001b[0m\u001b[0mmtransforms\u001b[0m\u001b[0;34m.\u001b[0m\u001b[0mIdentityTransform\u001b[0m\u001b[0;34m(\u001b[0m\u001b[0;34m)\u001b[0m\u001b[0;34m)\u001b[0m\u001b[0;34m\u001b[0m\u001b[0m\n\u001b[1;32m   3648\u001b[0m         \u001b[0mcollection\u001b[0m\u001b[0;34m.\u001b[0m\u001b[0mset_alpha\u001b[0m\u001b[0;34m(\u001b[0m\u001b[0malpha\u001b[0m\u001b[0;34m)\u001b[0m\u001b[0;34m\u001b[0m\u001b[0m\n\u001b[0;32m-> 3649\u001b[0;31m         \u001b[0mcollection\u001b[0m\u001b[0;34m.\u001b[0m\u001b[0mupdate\u001b[0m\u001b[0;34m(\u001b[0m\u001b[0mkwargs\u001b[0m\u001b[0;34m)\u001b[0m\u001b[0;34m\u001b[0m\u001b[0m\n\u001b[0m\u001b[1;32m   3650\u001b[0m \u001b[0;34m\u001b[0m\u001b[0m\n\u001b[1;32m   3651\u001b[0m         \u001b[0;32mif\u001b[0m \u001b[0mcolors\u001b[0m \u001b[0;32mis\u001b[0m \u001b[0;32mNone\u001b[0m\u001b[0;34m:\u001b[0m\u001b[0;34m\u001b[0m\u001b[0m\n",
      "\u001b[0;32m/Users/travisknop/travis_python/.direnv/python-3.5.0/lib/python3.5/site-packages/matplotlib/artist.py\u001b[0m in \u001b[0;36mupdate\u001b[0;34m(self, props)\u001b[0m\n\u001b[1;32m    755\u001b[0m             \u001b[0mfunc\u001b[0m \u001b[0;34m=\u001b[0m \u001b[0mgetattr\u001b[0m\u001b[0;34m(\u001b[0m\u001b[0mself\u001b[0m\u001b[0;34m,\u001b[0m \u001b[0;34m'set_'\u001b[0m \u001b[0;34m+\u001b[0m \u001b[0mk\u001b[0m\u001b[0;34m,\u001b[0m \u001b[0;32mNone\u001b[0m\u001b[0;34m)\u001b[0m\u001b[0;34m\u001b[0m\u001b[0m\n\u001b[1;32m    756\u001b[0m             \u001b[0;32mif\u001b[0m \u001b[0mfunc\u001b[0m \u001b[0;32mis\u001b[0m \u001b[0;32mNone\u001b[0m \u001b[0;32mor\u001b[0m \u001b[0;32mnot\u001b[0m \u001b[0msix\u001b[0m\u001b[0;34m.\u001b[0m\u001b[0mcallable\u001b[0m\u001b[0;34m(\u001b[0m\u001b[0mfunc\u001b[0m\u001b[0;34m)\u001b[0m\u001b[0;34m:\u001b[0m\u001b[0;34m\u001b[0m\u001b[0m\n\u001b[0;32m--> 757\u001b[0;31m                 \u001b[0;32mraise\u001b[0m \u001b[0mAttributeError\u001b[0m\u001b[0;34m(\u001b[0m\u001b[0;34m'Unknown property %s'\u001b[0m \u001b[0;34m%\u001b[0m \u001b[0mk\u001b[0m\u001b[0;34m)\u001b[0m\u001b[0;34m\u001b[0m\u001b[0m\n\u001b[0m\u001b[1;32m    758\u001b[0m             \u001b[0mfunc\u001b[0m\u001b[0;34m(\u001b[0m\u001b[0mv\u001b[0m\u001b[0;34m)\u001b[0m\u001b[0;34m\u001b[0m\u001b[0m\n\u001b[1;32m    759\u001b[0m             \u001b[0mchanged\u001b[0m \u001b[0;34m=\u001b[0m \u001b[0;32mTrue\u001b[0m\u001b[0;34m\u001b[0m\u001b[0m\n",
      "\u001b[0;31mAttributeError\u001b[0m: Unknown property fig_size"
     ]
    },
    {
     "data": {
      "image/png": "[encoded data removed]",
      "text/plain": [
       "<matplotlib.figure.Figure at 0x10ebf8a20>"
      ]
     },
     "metadata": {},
     "output_type": "display_data"
    }
   ],
   "source": [
    "kmeans = KMeans(4)\n",
    "y_pred = kmeans.fit_predict(reduced_cereal)\n",
    "plt.scatter(reduced_cereal[:, 0], reduced_cereal[:, 1], c=y_pred, cmap=\"hot\")\n",
    "plt.title(\"Cereal Plots - colored\")\n",
    "plt.show()"
   ]
  },
  {
   "cell_type": "code",
   "execution_count": 67,
   "metadata": {
    "collapsed": false
   },
   "outputs": [
    {
     "ename": "NameError",
     "evalue": "name 'cmap' is not defined",
     "output_type": "error",
     "traceback": [
      "\u001b[0;31m---------------------------------------------------------------------------\u001b[0m",
      "\u001b[0;31mNameError\u001b[0m                                 Traceback (most recent call last)",
      "\u001b[0;32m<ipython-input-67-898fee4c9f6a>\u001b[0m in \u001b[0;36m<module>\u001b[0;34m()\u001b[0m\n\u001b[0;32m----> 1\u001b[0;31m \u001b[0mhelp\u001b[0m\u001b[0;34m(\u001b[0m\u001b[0mcmap\u001b[0m\u001b[0;34m)\u001b[0m\u001b[0;34m\u001b[0m\u001b[0m\n\u001b[0m",
      "\u001b[0;31mNameError\u001b[0m: name 'cmap' is not defined"
     ]
    }
   ],
   "source": [
    "help(cmap)"
   ]
  },
  {
   "cell_type": "code",
   "execution_count": null,
   "metadata": {
    "collapsed": true
   },
   "outputs": [],
   "source": []
  }
 ],
 "metadata": {
  "kernelspec": {
   "display_name": "Python 3",
   "language": "python",
   "name": "python3"
  },
  "language_info": {
   "codemirror_mode": {
    "name": "ipython",
    "version": 3
   },
   "file_extension": ".py",
   "mimetype": "text/x-python",
   "name": "python",
   "nbconvert_exporter": "python",
   "pygments_lexer": "ipython3",
   "version": "3.5.0"
  }
 },
 "nbformat": 4,
 "nbformat_minor": 0
}
